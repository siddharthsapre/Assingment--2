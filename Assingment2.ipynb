{
 "cells": [
  {
   "cell_type": "code",
   "execution_count": null,
   "id": "486ebf57-c50f-4f93-a3dc-e93c2037f8c6",
   "metadata": {},
   "outputs": [],
   "source": [
    "Q1 Which keyword is used to create a function? Create a function to return a list of odd numbers in the\n",
    "range of 1 to 25.\n",
    "Ans def key word is used to create a function eg def tesst25().\n",
    "\n"
   ]
  },
  {
   "cell_type": "code",
   "execution_count": null,
   "id": "1f8f5eda-3f2f-4877-b71b-1ec166ea3cc1",
   "metadata": {},
   "outputs": [],
   "source": [
    "def test2():\n",
    "    l=[]\n",
    "    for i in range(1,26,2):\n",
    "        l.append(i)\n",
    "    return l"
   ]
  },
  {
   "cell_type": "markdown",
   "id": "ec7f0209-f8ad-40f8-97b9-5a08d50c1725",
   "metadata": {},
   "source": [
    "Q2. Why *args and **kwargs is used in some functions? Create a function each for *args and **kwargs\n",
    "to demonstrate their use.\n",
    "\n",
    "*args is used in a function to add multiple arguments and **kwargs is used to add dictionary in a function\n",
    "def test3(*args):"
   ]
  },
  {
   "cell_type": "code",
   "execution_count": null,
   "id": "ebf8982f-498e-45e8-aefe-890d089c8b76",
   "metadata": {},
   "outputs": [],
   "source": [
    "\n",
    "    l=[]\n",
    "    for i in args:\n",
    "        l.append(i)\n",
    "    return(l)"
   ]
  },
  {
   "cell_type": "code",
   "execution_count": null,
   "id": "a05b1723-50ca-4dac-b5bc-78eccd7c7dbd",
   "metadata": {},
   "outputs": [],
   "source": [
    "test3(25,26,33,\"siddharth\",\"sapre\",\"is\",[2.556,\"mulla\"],(\"naseer\",\"hussain\"))"
   ]
  },
  {
   "cell_type": "code",
   "execution_count": null,
   "id": "82020f67-a789-47a8-9db8-bb955a7ab9e4",
   "metadata": {},
   "outputs": [],
   "source": [
    "def test5(**kwargs):\n",
    "    return kwargs\n",
    "        "
   ]
  },
  {
   "cell_type": "code",
   "execution_count": null,
   "id": "a6d42900-8e42-4bc4-b756-4256738079e4",
   "metadata": {},
   "outputs": [],
   "source": [
    "test5(a = [1,2,3,4] , b = \"sudh\" , c = 23.45 )"
   ]
  },
  {
   "cell_type": "markdown",
   "id": "6a37a043-a122-4957-b4e3-d5ea3ff354e9",
   "metadata": {},
   "source": [
    " Q3. What is an iterator in python? Name the method used to initialise the iterator object and the method\n",
    "used for iteration. Use these methods to print the first five elements of the given list [2, 4, 6, 8, 10, 12, 14,\n",
    " 16, 18, 20].\n",
    "\n",
    " ans 3= iterator in python are those objects that can be iterated and they are iterable eg list, tuples and dictonary are default\n",
    " iterator in phython and integer is not iterable so it cannot be converted into iterator\n",
    "\n",
    " method used to intialise the iterator object is function iter()."
   ]
  },
  {
   "cell_type": "code",
   "execution_count": null,
   "id": "2e0b6cee-39b8-4192-a7bf-c40bf811daff",
   "metadata": {},
   "outputs": [],
   "source": [
    "\n",
    "\n",
    "l=[123,25,26,58,\"siddharth\"]\n",
    "for i in l:\n",
    "    print(i)"
   ]
  },
  {
   "cell_type": "code",
   "execution_count": null,
   "id": "d194fde6-2d51-4828-ab7b-15f842912cee",
   "metadata": {},
   "outputs": [],
   "source": [
    "l=[2, 4, 6, 8, 10, 12, 14,16, 18, 20]\n",
    "for i in l:\n",
    "    if i<=10:\n",
    "        print(i)"
   ]
  },
  {
   "cell_type": "code",
   "execution_count": null,
   "id": "1ddd802c-74ce-4a42-a05f-7a223ea47a48",
   "metadata": {},
   "outputs": [],
   "source": [
    "l=[2, 4, 6, 8, 10, 12, 14,16, 18, 20]\n",
    "[i for i in l if i<=10]"
   ]
  },
  {
   "cell_type": "markdown",
   "id": "021f37f7-017a-4a7b-92a6-18c1c37430fb",
   "metadata": {},
   "source": [
    "Q4. What is a generator function in python? Why yield keyword is used? Give an example of a generator\n",
    "function.\n",
    "\n",
    "ans 4 A generator function in phyton does not store the data in the computer memory instead the generator function throw out\n",
    "the output and reduce the use of internal memory, The yield keyword in Python controls the flow of a generator function. \n",
    "This is similar to a return statement used for returning values in Python."
   ]
  },
  {
   "cell_type": "code",
   "execution_count": null,
   "id": "3d82b5db-a78c-479b-8cb8-2ee2c83a01f8",
   "metadata": {},
   "outputs": [],
   "source": [
    "def test25(*n):\n",
    "    for i in n:\n",
    "        if i<=25:\n",
    "            yield (i)"
   ]
  },
  {
   "cell_type": "code",
   "execution_count": null,
   "id": "d1182d21-e02e-4412-bbbb-f7a7cb78f94b",
   "metadata": {},
   "outputs": [],
   "source": [
    "for i in test25([65,85,98,62,32,10,20,30,21,22]):\n",
    "    print(i)\n",
    "\n"
   ]
  },
  {
   "cell_type": "code",
   "execution_count": null,
   "id": "3695c017-2d63-4057-961d-a3e697b02aa3",
   "metadata": {},
   "outputs": [],
   "source": [
    "def test26(*n):\n",
    "    for i in n:\n",
    "        yield(i)"
   ]
  },
  {
   "cell_type": "code",
   "execution_count": null,
   "id": "098f7061-8922-4699-bb3e-7104ee6acc7d",
   "metadata": {},
   "outputs": [],
   "source": [
    "for i in test26(\"Siddharth\",\"sapre\",\"classic\",\"sql\",\"fellony\"):\n",
    "    print(i)"
   ]
  },
  {
   "cell_type": "markdown",
   "id": "9b08e2ea-a2be-4333-9174-2d6db1ee0486",
   "metadata": {},
   "source": [
    "Q5. Create a generator function for prime numbers less than 1000. Use the next() method to print the\n",
    "first 20 prime numbers."
   ]
  },
  {
   "cell_type": "code",
   "execution_count": null,
   "id": "90d74c79-a6f8-496d-ba04-4bd36f4ec47c",
   "metadata": {},
   "outputs": [],
   "source": [
    "\n",
    "\n",
    "def prime_generator():\n",
    "    primes = []\n",
    "    num = 2\n",
    "\n",
    "    while num < 1000:\n",
    "        is_prime = True\n",
    "        for prime in primes:\n",
    "            if num % prime == 0:\n",
    "                is_prime = False\n",
    "                break\n",
    "        if is_prime:\n",
    "            primes.append(num)\n",
    "            yield num\n",
    "        num += 1\n",
    "\n",
    "# Print the first 20 prime numbers\n",
    "generator = prime_generator()\n",
    "for _ in range(20):\n",
    "    prime = next(generator)\n",
    "    print(prime)\n"
   ]
  },
  {
   "cell_type": "markdown",
   "id": "4970e3cd-f918-4bd4-92c6-2c317fa41b66",
   "metadata": {},
   "source": [
    "Q6. Write a python program to print the first 10 Fibonacci numbers using a while loop."
   ]
  },
  {
   "cell_type": "code",
   "execution_count": null,
   "id": "ebb8c5fe-42ea-44f4-a071-16dad75569a6",
   "metadata": {},
   "outputs": [],
   "source": [
    "\n",
    "\n",
    "def test_fib():\n",
    "    a,b=0,1\n",
    "    while True:\n",
    "        yield a\n",
    "        a,b=b,a+b"
   ]
  },
  {
   "cell_type": "code",
   "execution_count": null,
   "id": "228b908e-a375-418c-8bd7-c16f7d66fd1a",
   "metadata": {},
   "outputs": [],
   "source": [
    "fib=test_fib()"
   ]
  },
  {
   "cell_type": "code",
   "execution_count": null,
   "id": "4c130684-6837-47e7-86b2-1b0f41ae8003",
   "metadata": {},
   "outputs": [],
   "source": [
    "for i in range(10):\n",
    "    print(next(fib))"
   ]
  },
  {
   "cell_type": "markdown",
   "id": "ff9c9c65-39b0-497c-b15e-fc4ebc4d7e0d",
   "metadata": {},
   "source": [
    "Write a List Comprehension to iterate through the given string: ‘pwskills’.\n",
    "Expected output: ['p', 'w', 's', 'k', 'i', 'l', 'l', 's']"
   ]
  },
  {
   "cell_type": "code",
   "execution_count": null,
   "id": "a017ab4e-75ca-491f-a530-992d61fd0093",
   "metadata": {},
   "outputs": [],
   "source": [
    "k=\"PWSkILLS\"\n",
    "\n",
    "[i for i in k]"
   ]
  },
  {
   "cell_type": "code",
   "execution_count": null,
   "id": "55fb161b-a974-4a2c-855f-82362ced4d89",
   "metadata": {},
   "outputs": [],
   "source": [
    "Write a python program to check whether a given number is Palindrome or not using a while loop."
   ]
  },
  {
   "cell_type": "code",
   "execution_count": null,
   "id": "c606f361-a99d-4afd-90b4-54a8abc6ea6e",
   "metadata": {},
   "outputs": [],
   "source": [
    "\n",
    "\n",
    "def palindrome(number):\n",
    "    \n",
    "    original_number = number\n",
    "    reverse_number = 0\n",
    "    \n",
    "    \n",
    "    while number > 0:\n",
    "        last_digit = number % 10\n",
    "        reverse_number = (reverse_number * 10) + last_digit\n",
    "        number = number // 10\n",
    "    if original_number == reverse_number:\n",
    "        return True\n",
    "    else:\n",
    "        return False\n",
    "\n",
    "\n",
    "number = int(input(\"Enter a number: \"))\n",
    "\n",
    "if palindrome(number):\n",
    "    print(number, \"is a palindrome\")\n",
    "else:\n",
    "    print(number, \"is not a palindrome\")"
   ]
  },
  {
   "cell_type": "code",
   "execution_count": null,
   "id": "65159bbc-1e6f-4640-a682-ee340aa8696c",
   "metadata": {},
   "outputs": [],
   "source": [
    "###Write a code to print odd numbers from 1 to 100 using list comprehension.\n",
    "\n",
    "[ i for i in range(100) if i%2==True]"
   ]
  },
  {
   "cell_type": "code",
   "execution_count": null,
   "id": "ed19c771-d4fa-4b6f-b463-51ca7dc58819",
   "metadata": {},
   "outputs": [],
   "source": []
  },
  {
   "cell_type": "code",
   "execution_count": null,
   "id": "3a96a80f-6018-48a9-8188-92a20cf3e7c6",
   "metadata": {},
   "outputs": [],
   "source": []
  },
  {
   "cell_type": "code",
   "execution_count": null,
   "id": "f56f5fa4-1fb7-44b9-b48e-a87adfdf5b42",
   "metadata": {},
   "outputs": [],
   "source": []
  }
 ],
 "metadata": {
  "kernelspec": {
   "display_name": "Python 3 (ipykernel)",
   "language": "python",
   "name": "python3"
  },
  "language_info": {
   "codemirror_mode": {
    "name": "ipython",
    "version": 3
   },
   "file_extension": ".py",
   "mimetype": "text/x-python",
   "name": "python",
   "nbconvert_exporter": "python",
   "pygments_lexer": "ipython3",
   "version": "3.10.6"
  }
 },
 "nbformat": 4,
 "nbformat_minor": 5
}
